{
 "cells": [
  {
   "cell_type": "code",
   "execution_count": 1,
   "id": "f1c5993b",
   "metadata": {},
   "outputs": [
    {
     "data": {
      "text/html": [
       "<div>\n",
       "<style scoped>\n",
       "    .dataframe tbody tr th:only-of-type {\n",
       "        vertical-align: middle;\n",
       "    }\n",
       "\n",
       "    .dataframe tbody tr th {\n",
       "        vertical-align: top;\n",
       "    }\n",
       "\n",
       "    .dataframe thead th {\n",
       "        text-align: right;\n",
       "    }\n",
       "</style>\n",
       "<table border=\"1\" class=\"dataframe\">\n",
       "  <thead>\n",
       "    <tr style=\"text-align: right;\">\n",
       "      <th></th>\n",
       "      <th>date</th>\n",
       "      <th>price</th>\n",
       "      <th>code</th>\n",
       "      <th>type</th>\n",
       "      <th>rank</th>\n",
       "      <th>category</th>\n",
       "    </tr>\n",
       "  </thead>\n",
       "  <tbody>\n",
       "    <tr>\n",
       "      <th>0</th>\n",
       "      <td>2022-02-01</td>\n",
       "      <td>345.0</td>\n",
       "      <td>1001</td>\n",
       "      <td>flat</td>\n",
       "      <td>5</td>\n",
       "      <td>C</td>\n",
       "    </tr>\n",
       "    <tr>\n",
       "      <th>1</th>\n",
       "      <td>2022-03-02</td>\n",
       "      <td>345.0</td>\n",
       "      <td>1001</td>\n",
       "      <td>flat</td>\n",
       "      <td>4</td>\n",
       "      <td>C</td>\n",
       "    </tr>\n",
       "    <tr>\n",
       "      <th>2</th>\n",
       "      <td>2022-05-01</td>\n",
       "      <td>80.0</td>\n",
       "      <td>3001</td>\n",
       "      <td>house</td>\n",
       "      <td>1</td>\n",
       "      <td>A</td>\n",
       "    </tr>\n",
       "    <tr>\n",
       "      <th>3</th>\n",
       "      <td>2022-06-01</td>\n",
       "      <td>17.7</td>\n",
       "      <td>3033</td>\n",
       "      <td>flat</td>\n",
       "      <td>2</td>\n",
       "      <td>A</td>\n",
       "    </tr>\n",
       "    <tr>\n",
       "      <th>4</th>\n",
       "      <td>2022-06-01</td>\n",
       "      <td>150.0</td>\n",
       "      <td>3034</td>\n",
       "      <td>flat</td>\n",
       "      <td>3</td>\n",
       "      <td>A</td>\n",
       "    </tr>\n",
       "  </tbody>\n",
       "</table>\n",
       "</div>"
      ],
      "text/plain": [
       "         date  price  code   type  rank category\n",
       "0  2022-02-01  345.0  1001   flat     5        C\n",
       "1  2022-03-02  345.0  1001   flat     4        C\n",
       "2  2022-05-01   80.0  3001  house     1        A\n",
       "3  2022-06-01   17.7  3033   flat     2        A\n",
       "4  2022-06-01  150.0  3034   flat     3        A"
      ]
     },
     "execution_count": 1,
     "metadata": {},
     "output_type": "execute_result"
    }
   ],
   "source": [
    "import pandas as pd\n",
    "import numpy as np\n",
    "\n",
    "import plotly.express as px\n",
    "import matplotlib.pyplot as plt\n",
    "%matplotlib inline\n",
    "\n",
    "data = {'date':  ['2022-02-01', '2022-03-02', '2022-05-01', '2022-06-01', '2022-06-01', '2022-06-06','2022-06-12', \n",
    "                  '2022-06-01', '2022-07-18', '2022-07-18', '2022-07-18',\n",
    "                 '2022-06-01', '2022-06-05', '2022-06-09', '2022-06-13'],\n",
    "        'price': [345, 345, 80,17.7,150,13,10,90.34,20.1,15,13.5, 100, 85, 72, 75],\n",
    "        'code' : [1001,1001, 3001,3033,3034,3034,3034,503, 501,502,503,888, 888,888,888],\n",
    "        'type' : ['flat', 'flat', 'house','flat','flat','flat','flat','flat', 'house','house','flat','house', 'house','house','house'],\n",
    "        'rank': [5,4,1,2,3,4,5,8,6,7,8,88, 75, 66, 64],\n",
    "        'category': ['C','C','A','A','A','A','A','A','A','A','A','B','B','B','B']\n",
    "        }\n",
    "\n",
    "df = pd.DataFrame(data)\n",
    "df.head()"
   ]
  },
  {
   "cell_type": "code",
   "execution_count": 2,
   "id": "585add24",
   "metadata": {},
   "outputs": [
    {
     "data": {
      "text/plain": [
       "date        datetime64[ns]\n",
       "price              float64\n",
       "code                 int64\n",
       "type                object\n",
       "rank                 int64\n",
       "category            object\n",
       "date_str            object\n",
       "dtype: object"
      ]
     },
     "execution_count": 2,
     "metadata": {},
     "output_type": "execute_result"
    }
   ],
   "source": [
    "df2 = df.copy()\n",
    "df2['date'] = pd.to_datetime(df2['date'], format=\"%Y-%d-%m\", infer_datetime_format=True)\n",
    "df2['date_str'] = df2['date'].dt.strftime('%m.%d.%Y')\n",
    "#df2 = df.set_index(\"date\")\n",
    "df2.sort_values(by='date', ascending = False, inplace=True)\n",
    "df2.dtypes"
   ]
  },
  {
   "cell_type": "markdown",
   "id": "20623ec6",
   "metadata": {},
   "source": [
    "##  Exploring the data set"
   ]
  },
  {
   "cell_type": "code",
   "execution_count": 143,
   "id": "87424165",
   "metadata": {},
   "outputs": [
    {
     "data": {
      "text/html": [
       "<div>\n",
       "<style scoped>\n",
       "    .dataframe tbody tr th:only-of-type {\n",
       "        vertical-align: middle;\n",
       "    }\n",
       "\n",
       "    .dataframe tbody tr th {\n",
       "        vertical-align: top;\n",
       "    }\n",
       "\n",
       "    .dataframe thead th {\n",
       "        text-align: right;\n",
       "    }\n",
       "</style>\n",
       "<table border=\"1\" class=\"dataframe\">\n",
       "  <thead>\n",
       "    <tr style=\"text-align: right;\">\n",
       "      <th></th>\n",
       "      <th>date</th>\n",
       "      <th>price</th>\n",
       "      <th>code</th>\n",
       "      <th>type</th>\n",
       "      <th>rank</th>\n",
       "      <th>category</th>\n",
       "      <th>date_str</th>\n",
       "      <th>occ.</th>\n",
       "    </tr>\n",
       "  </thead>\n",
       "  <tbody>\n",
       "    <tr>\n",
       "      <th>0</th>\n",
       "      <td>2022-07-18</td>\n",
       "      <td>20.1</td>\n",
       "      <td>501</td>\n",
       "      <td>house</td>\n",
       "      <td>6</td>\n",
       "      <td>A</td>\n",
       "      <td>07.18.2022</td>\n",
       "      <td>1</td>\n",
       "    </tr>\n",
       "    <tr>\n",
       "      <th>1</th>\n",
       "      <td>2022-07-18</td>\n",
       "      <td>15.0</td>\n",
       "      <td>502</td>\n",
       "      <td>house</td>\n",
       "      <td>7</td>\n",
       "      <td>A</td>\n",
       "      <td>07.18.2022</td>\n",
       "      <td>1</td>\n",
       "    </tr>\n",
       "    <tr>\n",
       "      <th>2</th>\n",
       "      <td>2022-07-18</td>\n",
       "      <td>13.5</td>\n",
       "      <td>503</td>\n",
       "      <td>flat</td>\n",
       "      <td>8</td>\n",
       "      <td>A</td>\n",
       "      <td>07.18.2022</td>\n",
       "      <td>2</td>\n",
       "    </tr>\n",
       "    <tr>\n",
       "      <th>3</th>\n",
       "      <td>2022-06-13</td>\n",
       "      <td>75.0</td>\n",
       "      <td>888</td>\n",
       "      <td>house</td>\n",
       "      <td>64</td>\n",
       "      <td>B</td>\n",
       "      <td>06.13.2022</td>\n",
       "      <td>4</td>\n",
       "    </tr>\n",
       "    <tr>\n",
       "      <th>4</th>\n",
       "      <td>2022-06-12</td>\n",
       "      <td>10.0</td>\n",
       "      <td>3034</td>\n",
       "      <td>flat</td>\n",
       "      <td>5</td>\n",
       "      <td>A</td>\n",
       "      <td>06.12.2022</td>\n",
       "      <td>3</td>\n",
       "    </tr>\n",
       "    <tr>\n",
       "      <th>8</th>\n",
       "      <td>2022-06-01</td>\n",
       "      <td>17.7</td>\n",
       "      <td>3033</td>\n",
       "      <td>flat</td>\n",
       "      <td>2</td>\n",
       "      <td>A</td>\n",
       "      <td>06.01.2022</td>\n",
       "      <td>1</td>\n",
       "    </tr>\n",
       "    <tr>\n",
       "      <th>12</th>\n",
       "      <td>2022-05-01</td>\n",
       "      <td>80.0</td>\n",
       "      <td>3001</td>\n",
       "      <td>house</td>\n",
       "      <td>1</td>\n",
       "      <td>A</td>\n",
       "      <td>05.01.2022</td>\n",
       "      <td>1</td>\n",
       "    </tr>\n",
       "    <tr>\n",
       "      <th>13</th>\n",
       "      <td>2022-03-02</td>\n",
       "      <td>345.0</td>\n",
       "      <td>1001</td>\n",
       "      <td>flat</td>\n",
       "      <td>4</td>\n",
       "      <td>C</td>\n",
       "      <td>03.02.2022</td>\n",
       "      <td>2</td>\n",
       "    </tr>\n",
       "  </tbody>\n",
       "</table>\n",
       "</div>"
      ],
      "text/plain": [
       "         date  price  code   type  rank category    date_str  occ.\n",
       "0  2022-07-18   20.1   501  house     6        A  07.18.2022     1\n",
       "1  2022-07-18   15.0   502  house     7        A  07.18.2022     1\n",
       "2  2022-07-18   13.5   503   flat     8        A  07.18.2022     2\n",
       "3  2022-06-13   75.0   888  house    64        B  06.13.2022     4\n",
       "4  2022-06-12   10.0  3034   flat     5        A  06.12.2022     3\n",
       "8  2022-06-01   17.7  3033   flat     2        A  06.01.2022     1\n",
       "12 2022-05-01   80.0  3001  house     1        A  05.01.2022     1\n",
       "13 2022-03-02  345.0  1001   flat     4        C  03.02.2022     2"
      ]
     },
     "execution_count": 143,
     "metadata": {},
     "output_type": "execute_result"
    }
   ],
   "source": [
    "u, c = np.unique(pd.Series(df2.code.ravel()).dropna().values, return_counts=True)\n",
    "df3 = df2.merge(pd.DataFrame({'code': u, 'occ.' : c}), how='left', on='code')\n",
    "df3.drop_duplicates(subset=['code'], inplace=True)\n",
    "df3.head(8)"
   ]
  },
  {
   "cell_type": "code",
   "execution_count": null,
   "id": "08b80813",
   "metadata": {},
   "outputs": [],
   "source": []
  },
  {
   "cell_type": "markdown",
   "id": "d013576e",
   "metadata": {},
   "source": []
  },
  {
   "cell_type": "markdown",
   "id": "7a9bae1c",
   "metadata": {},
   "source": [
    "## How is the price changing for the advertisements?"
   ]
  },
  {
   "cell_type": "code",
   "execution_count": 1,
   "id": "0f9984c3",
   "metadata": {},
   "outputs": [
    {
     "ename": "NameError",
     "evalue": "name 'df2' is not defined",
     "output_type": "error",
     "traceback": [
      "\u001b[1;31m---------------------------------------------------------------------------\u001b[0m",
      "\u001b[1;31mNameError\u001b[0m                                 Traceback (most recent call last)",
      "\u001b[1;32m~\\AppData\\Local\\Temp/ipykernel_1972/2949678697.py\u001b[0m in \u001b[0;36m<module>\u001b[1;34m\u001b[0m\n\u001b[0;32m      2\u001b[0m       \u001b[1;32mreturn\u001b[0m \u001b[1;33m(\u001b[0m\u001b[1;32mlambda\u001b[0m \u001b[0mx\u001b[0m\u001b[1;33m,\u001b[0m \u001b[0my\u001b[0m\u001b[1;33m:\u001b[0m \u001b[0mx\u001b[0m \u001b[1;33m+\u001b[0m \u001b[0my\u001b[0m\u001b[1;33m,\u001b[0m \u001b[0mseries\u001b[0m\u001b[1;33m)\u001b[0m\u001b[1;33m\u001b[0m\u001b[1;33m\u001b[0m\u001b[0m\n\u001b[0;32m      3\u001b[0m \u001b[1;33m\u001b[0m\u001b[0m\n\u001b[1;32m----> 4\u001b[1;33m \u001b[0mdf4\u001b[0m \u001b[1;33m=\u001b[0m \u001b[0mdf2\u001b[0m\u001b[1;33m.\u001b[0m\u001b[0mgroupby\u001b[0m\u001b[1;33m(\u001b[0m\u001b[1;33m[\u001b[0m\u001b[1;34m'code'\u001b[0m\u001b[1;33m]\u001b[0m\u001b[1;33m)\u001b[0m\u001b[1;33m.\u001b[0m\u001b[0magg\u001b[0m\u001b[1;33m(\u001b[0m\u001b[1;33m{\u001b[0m\u001b[1;34m'code'\u001b[0m\u001b[1;33m:\u001b[0m \u001b[1;33m[\u001b[0m\u001b[1;34m'first'\u001b[0m\u001b[1;33m,\u001b[0m \u001b[1;34m'size'\u001b[0m\u001b[1;33m]\u001b[0m\u001b[1;33m,\u001b[0m \u001b[1;34m'price'\u001b[0m\u001b[1;33m:\u001b[0m \u001b[1;33m[\u001b[0m\u001b[1;34m'first'\u001b[0m\u001b[1;33m,\u001b[0m \u001b[1;34m'last'\u001b[0m\u001b[1;33m]\u001b[0m\u001b[1;33m,\u001b[0m \u001b[1;34m'date'\u001b[0m\u001b[1;33m:\u001b[0m \u001b[1;33m[\u001b[0m\u001b[1;34m'first'\u001b[0m\u001b[1;33m,\u001b[0m \u001b[1;34m'last'\u001b[0m\u001b[1;33m]\u001b[0m\u001b[1;33m,\u001b[0m \u001b[1;34m'type'\u001b[0m\u001b[1;33m:\u001b[0m \u001b[1;33m[\u001b[0m\u001b[1;34m'first'\u001b[0m\u001b[1;33m]\u001b[0m\u001b[1;33m}\u001b[0m\u001b[1;33m)\u001b[0m\u001b[1;33m\u001b[0m\u001b[1;33m\u001b[0m\u001b[0m\n\u001b[0m\u001b[0;32m      5\u001b[0m \u001b[0mdf4\u001b[0m\u001b[1;33m.\u001b[0m\u001b[0mcolumns\u001b[0m \u001b[1;33m=\u001b[0m \u001b[0mdf4\u001b[0m\u001b[1;33m.\u001b[0m\u001b[0mcolumns\u001b[0m\u001b[1;33m.\u001b[0m\u001b[0mdroplevel\u001b[0m\u001b[1;33m(\u001b[0m\u001b[1;36m0\u001b[0m\u001b[1;33m)\u001b[0m\u001b[1;33m\u001b[0m\u001b[1;33m\u001b[0m\u001b[0m\n\u001b[0;32m      6\u001b[0m \u001b[0mdf4\u001b[0m\u001b[1;33m.\u001b[0m\u001b[0mcolumns\u001b[0m \u001b[1;33m=\u001b[0m \u001b[1;33m[\u001b[0m\u001b[1;34m'code'\u001b[0m\u001b[1;33m,\u001b[0m \u001b[1;34m'occ.'\u001b[0m\u001b[1;33m,\u001b[0m \u001b[1;34m'p.first'\u001b[0m\u001b[1;33m,\u001b[0m \u001b[1;34m'p.last'\u001b[0m\u001b[1;33m,\u001b[0m \u001b[1;34m'dt.first'\u001b[0m\u001b[1;33m,\u001b[0m \u001b[1;34m'dt.last'\u001b[0m\u001b[1;33m,\u001b[0m \u001b[1;34m'type'\u001b[0m\u001b[1;33m]\u001b[0m\u001b[1;33m\u001b[0m\u001b[1;33m\u001b[0m\u001b[0m\n",
      "\u001b[1;31mNameError\u001b[0m: name 'df2' is not defined"
     ]
    }
   ],
   "source": [
    "def total(a):\n",
    "      return (lambda x, y: x + y, series)\n",
    "\n",
    "df4 = df2.groupby(['code']).agg({'code': ['first', 'size'], 'price': ['first', 'last'], 'date': ['first', 'last'], 'type': ['first']})\n",
    "df4.columns = df4.columns.droplevel(0)\n",
    "df4.columns = ['code', 'occ.', 'p.first', 'p.last', 'dt.first', 'dt.last', 'type']\n",
    "df4['online'] = (df4['dt.first']-df4['dt.last']).dt.days\n",
    "df4['pdiff'] = df4['p.first']-df4['p.last']\n",
    "#df4.rename(columns={'date':'Total_Numbers'})\n",
    "\n",
    "\n",
    "val=df4[df4['pdiff'] != 0]['pdiff'].mean()\n",
    "print(f'Avg. price change since initial offering: {round(val)} €')\n",
    "df4[df4['pdiff'] != 0].head(16)"
   ]
  },
  {
   "cell_type": "code",
   "execution_count": 108,
   "id": "5bc55293",
   "metadata": {},
   "outputs": [
    {
     "name": "stdout",
     "output_type": "stream",
     "text": [
      "Avg. price change since initial offering: -81 €\n"
     ]
    },
    {
     "data": {
      "text/html": [
       "<div>\n",
       "<style scoped>\n",
       "    .dataframe tbody tr th:only-of-type {\n",
       "        vertical-align: middle;\n",
       "    }\n",
       "\n",
       "    .dataframe tbody tr th {\n",
       "        vertical-align: top;\n",
       "    }\n",
       "\n",
       "    .dataframe thead th {\n",
       "        text-align: right;\n",
       "    }\n",
       "</style>\n",
       "<table border=\"1\" class=\"dataframe\">\n",
       "  <thead>\n",
       "    <tr style=\"text-align: right;\">\n",
       "      <th></th>\n",
       "      <th>code</th>\n",
       "      <th>occ.</th>\n",
       "      <th>category</th>\n",
       "      <th>p.first</th>\n",
       "      <th>p.last</th>\n",
       "      <th>r.first</th>\n",
       "      <th>r.mean</th>\n",
       "      <th>r.last</th>\n",
       "      <th>dt.first</th>\n",
       "      <th>dt.last</th>\n",
       "      <th>type</th>\n",
       "      <th>online</th>\n",
       "      <th>price_diff</th>\n",
       "    </tr>\n",
       "    <tr>\n",
       "      <th>code</th>\n",
       "      <th></th>\n",
       "      <th></th>\n",
       "      <th></th>\n",
       "      <th></th>\n",
       "      <th></th>\n",
       "      <th></th>\n",
       "      <th></th>\n",
       "      <th></th>\n",
       "      <th></th>\n",
       "      <th></th>\n",
       "      <th></th>\n",
       "      <th></th>\n",
       "      <th></th>\n",
       "    </tr>\n",
       "  </thead>\n",
       "  <tbody>\n",
       "    <tr>\n",
       "      <th>503</th>\n",
       "      <td>503</td>\n",
       "      <td>2</td>\n",
       "      <td>A</td>\n",
       "      <td>13.5</td>\n",
       "      <td>90.34</td>\n",
       "      <td>8</td>\n",
       "      <td>8.00</td>\n",
       "      <td>8</td>\n",
       "      <td>2022-07-18</td>\n",
       "      <td>2022-06-01</td>\n",
       "      <td>flat</td>\n",
       "      <td>47</td>\n",
       "      <td>-76.84</td>\n",
       "    </tr>\n",
       "    <tr>\n",
       "      <th>888</th>\n",
       "      <td>888</td>\n",
       "      <td>4</td>\n",
       "      <td>B</td>\n",
       "      <td>75.0</td>\n",
       "      <td>100.00</td>\n",
       "      <td>64</td>\n",
       "      <td>73.25</td>\n",
       "      <td>88</td>\n",
       "      <td>2022-06-13</td>\n",
       "      <td>2022-06-01</td>\n",
       "      <td>house</td>\n",
       "      <td>12</td>\n",
       "      <td>-25.00</td>\n",
       "    </tr>\n",
       "    <tr>\n",
       "      <th>3034</th>\n",
       "      <td>3034</td>\n",
       "      <td>3</td>\n",
       "      <td>A</td>\n",
       "      <td>10.0</td>\n",
       "      <td>150.00</td>\n",
       "      <td>5</td>\n",
       "      <td>4.00</td>\n",
       "      <td>3</td>\n",
       "      <td>2022-06-12</td>\n",
       "      <td>2022-06-01</td>\n",
       "      <td>flat</td>\n",
       "      <td>11</td>\n",
       "      <td>-140.00</td>\n",
       "    </tr>\n",
       "  </tbody>\n",
       "</table>\n",
       "</div>"
      ],
      "text/plain": [
       "      code  occ. category  p.first  p.last  r.first  r.mean  r.last  \\\n",
       "code                                                                  \n",
       "503    503     2        A     13.5   90.34        8    8.00       8   \n",
       "888    888     4        B     75.0  100.00       64   73.25      88   \n",
       "3034  3034     3        A     10.0  150.00        5    4.00       3   \n",
       "\n",
       "       dt.first    dt.last   type  online  price_diff  \n",
       "code                                                   \n",
       "503  2022-07-18 2022-06-01   flat      47      -76.84  \n",
       "888  2022-06-13 2022-06-01  house      12      -25.00  \n",
       "3034 2022-06-12 2022-06-01   flat      11     -140.00  "
      ]
     },
     "execution_count": 108,
     "metadata": {},
     "output_type": "execute_result"
    }
   ],
   "source": [
    "df5 = df2.groupby(['code']).agg({'code': ['first', 'size'], 'category':['first'], 'price': ['first', 'last'], 'rank': ['first', 'mean', 'last'], 'date': ['first', 'last'], 'type' : ['first']})\n",
    "df5.columns = df5.columns.droplevel(0)\n",
    "df5.columns = ['code', 'occ.', 'category', 'p.first', 'p.last', 'r.first', 'r.mean', 'r.last', 'dt.first', 'dt.last', 'type']\n",
    "df5['online'] = (df5['dt.first']-df5['dt.last']).dt.days\n",
    "df5['price_diff'] = df5['p.first']-df5['p.last']\n",
    "#df4.rename(columns={'date':'Total_Numbers'})\n",
    "\n",
    "\n",
    "val=df5[df5['price_diff'] != 0]['price_diff'].mean()\n",
    "print(f'Avg. price change since initial offering: {round(val)} €')\n",
    "df5[df5['price_diff'] != 0].head(16)"
   ]
  },
  {
   "cell_type": "code",
   "execution_count": null,
   "id": "3712cff9",
   "metadata": {},
   "outputs": [],
   "source": []
  },
  {
   "cell_type": "code",
   "execution_count": 3,
   "id": "a9b04b8b",
   "metadata": {},
   "outputs": [
    {
     "ename": "NameError",
     "evalue": "name 'df5' is not defined",
     "output_type": "error",
     "traceback": [
      "\u001b[1;31m---------------------------------------------------------------------------\u001b[0m",
      "\u001b[1;31mNameError\u001b[0m                                 Traceback (most recent call last)",
      "\u001b[1;32m~\\AppData\\Local\\Temp/ipykernel_20432/1097124081.py\u001b[0m in \u001b[0;36m<module>\u001b[1;34m\u001b[0m\n\u001b[1;32m----> 1\u001b[1;33m fig = px.scatter(df5[df5['price_diff'] != 0], x=\"online\", y=\"price_diff\", color=\"type\",\n\u001b[0m\u001b[0;32m      2\u001b[0m                  size='occ.', hover_data=['type', 'occ.'])\n\u001b[0;32m      3\u001b[0m \u001b[0mfig\u001b[0m\u001b[1;33m.\u001b[0m\u001b[0mshow\u001b[0m\u001b[1;33m(\u001b[0m\u001b[1;33m)\u001b[0m\u001b[1;33m\u001b[0m\u001b[1;33m\u001b[0m\u001b[0m\n",
      "\u001b[1;31mNameError\u001b[0m: name 'df5' is not defined"
     ]
    }
   ],
   "source": [
    "fig = px.scatter(df5[df5['price_diff'] != 0], x=\"online\", y=\"price_diff\", color=\"type\",\n",
    "                 size='occ.', hover_data=['type', 'occ.'])\n",
    "fig.show()"
   ]
  },
  {
   "cell_type": "markdown",
   "id": "6c2eae9d",
   "metadata": {},
   "source": [
    "#### How is the price changing for an individual ad?"
   ]
  },
  {
   "cell_type": "code",
   "execution_count": 110,
   "id": "66a4ce01",
   "metadata": {},
   "outputs": [],
   "source": [
    "df3 = df2.copy()\n",
    "df3 = df3.set_index(\"date\")"
   ]
  },
  {
   "cell_type": "code",
   "execution_count": 111,
   "id": "69eb1d32",
   "metadata": {},
   "outputs": [
    {
     "data": {
      "image/png": "[encoded data removed]",
      "text/plain": [
       "<Figure size 864x360 with 1 Axes>"
      ]
     },
     "metadata": {},
     "output_type": "display_data"
    }
   ],
   "source": [
    "plt.style.use(\"fivethirtyeight\")\n",
    "plt.figure(figsize=(12, 5))\n",
    "plt.xlabel(\"Date\")\n",
    "plt.ylabel(\"Prices\")\n",
    "plt.title(\"Price over time\")\n",
    "plt.plot(df3[df3[\"code\"]==3034]['price']);"
   ]
  },
  {
   "cell_type": "markdown",
   "id": "88183009",
   "metadata": {},
   "source": [
    "## IIII How is it possible to identify paid ads?\n",
    "In case an ad is older but still on the first pages it is identified as a paid advertaisment.\n",
    "- if the advertisement is online for an extended period of time (one week)\n",
    "- AND the mean ranking is below a threshold of 10\n",
    "\n",
    "According to the [willhaben website](www.willhaben.at) this are the current prices:\n",
    "\n",
    "| product   | price | expiration |\n",
    "|-----------|-------|------------|\n",
    "| sell flat | 39 €  | 30 days    |\n",
    "| rent flat | 29 €  | 30 days    |\n",
    "\n",
    "Additionally the following upgrades can be purchased:\n",
    "\n",
    "| upgrade                | price   | expiration   |\n",
    "|------------------------|---------|--------------|\n",
    "| re-rank to beginning   | 27.90 € | 4 weeks      |\n",
    "| highlight ad. by color | 17.90 € | once per ad. |\n",
    "\n"
   ]
  },
  {
   "cell_type": "code",
   "execution_count": 155,
   "id": "bd4e2720",
   "metadata": {},
   "outputs": [],
   "source": [
    "df6 = df5.copy()\n",
    "df6 = df6[(df6['online']>7) & (df6['r.mean']<10)]\n",
    "df6.sort_values(by='dt.last', ascending = False, inplace=True)\n",
    "df6.head(10)\n",
    "num_paid_ads_flat= df5[df5['type']=='flat'].shape[0]\n",
    "num_paid_ads_house= df5[df5['type']=='house'].shape[0]\n",
    "price_ad_rent = 29\n",
    "price_ad_house = 39\n",
    "price_re_ranking = 27.90\n",
    "num_paid_ads= df6.shape[0]"
   ]
  },
  {
   "cell_type": "code",
   "execution_count": 159,
   "id": "23b33934",
   "metadata": {},
   "outputs": [
    {
     "name": "stdout",
     "output_type": "stream",
     "text": [
      "Number of paid inserates: 8, Revenue generated: 272 €\n",
      "Number of ads with upgrades: 3, Ad revenue upgrades 84 €\n"
     ]
    }
   ],
   "source": [
    "revenue = (num_paid_ads_flat * price_ad_rent) + (num_paid_ads_flat * price_ad_house)\n",
    "print(f\"Number of paid inserates: {num_paid_ads_flat+num_paid_ads_house}, Revenue generated: {revenue} €\")\n",
    "print(f\"Number of ads with upgrades: {num_paid_ads}, Ad revenue upgrades {round(num_paid_ads * price_re_ranking)} €\")"
   ]
  },
  {
   "cell_type": "markdown",
   "id": "bc5c109f",
   "metadata": {},
   "source": [
    "### How many advertisments are in a given interval?"
   ]
  },
  {
   "cell_type": "code",
   "execution_count": 160,
   "id": "540709bc",
   "metadata": {},
   "outputs": [],
   "source": [
    "# <img src='tea.jpg' width=\"400\" height=\"400\">\n",
    "# ![tea.jpg](attachment:tea.jpg)"
   ]
  },
  {
   "cell_type": "markdown",
   "id": "9071d1c6",
   "metadata": {},
   "source": [
    "### IV How many new ads are appearing on the platform per week?"
   ]
  },
  {
   "cell_type": "code",
   "execution_count": null,
   "id": "76fcec56",
   "metadata": {},
   "outputs": [],
   "source": []
  }
 ],
 "metadata": {
  "kernelspec": {
   "display_name": "Python 3 (ipykernel)",
   "language": "python",
   "name": "python3"
  },
  "language_info": {
   "codemirror_mode": {
    "name": "ipython",
    "version": 3
   },
   "file_extension": ".py",
   "mimetype": "text/x-python",
   "name": "python",
   "nbconvert_exporter": "python",
   "pygments_lexer": "ipython3",
   "version": "3.9.13"
  }
 },
 "nbformat": 4,
 "nbformat_minor": 5
}
